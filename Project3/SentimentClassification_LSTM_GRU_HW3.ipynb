{
  "nbformat": 4,
  "nbformat_minor": 0,
  "metadata": {
    "colab": {
      "provenance": [],
      "collapsed_sections": [
        "TGS09nOn9Ftw",
        "Kx_sQuVz-rgf",
        "NmXr_RR3-j4L",
        "rDjTheip_b3G",
        "sNZ041L2_xK5",
        "80Qv-J50_8vp",
        "AoHjO3EZC7wm",
        "91LA04yYDjfR",
        "YkKpr-EndRuT",
        "lDUr2qOt_Vfj",
        "cOy7BwhzDtp9",
        "Gx4l4-_LdUTU",
        "B-W_wJH5Q18R",
        "-Z5GfPzijY-7",
        "mpbYOvQG9n7L",
        "cAwQ8M2qYIEH",
        "twlpHaaQrHXf",
        "JPbHLvbP40SP",
        "Ip-IIvrZD3S4",
        "VTGIngZlSw4O"
      ]
    },
    "kernelspec": {
      "name": "python3",
      "display_name": "Python 3"
    },
    "language_info": {
      "name": "python"
    },
    "gpuClass": "standard"
  },
  "cells": [
    {
      "cell_type": "markdown",
      "source": [
        "# Bidirectional stacked RNNs with LSTM/GRU cells HW3"
      ],
      "metadata": {
        "id": "R0H9ustc9BDt"
      }
    },
    {
      "cell_type": "markdown",
      "source": [
        "## Download GloVe Embeddings"
      ],
      "metadata": {
        "id": "TGS09nOn9Ftw"
      }
    },
    {
      "cell_type": "code",
      "source": [
        "!wget http://nlp.stanford.edu/data/glove.6B.zip"
      ],
      "metadata": {
        "id": "14ek5yFh9Iiq"
      },
      "execution_count": null,
      "outputs": []
    },
    {
      "cell_type": "code",
      "source": [
        "!unzip glove*.zip"
      ],
      "metadata": {
        "id": "tZ9UIzu1-fsR"
      },
      "execution_count": null,
      "outputs": []
    },
    {
      "cell_type": "markdown",
      "source": [
        "## Imports\n"
      ],
      "metadata": {
        "id": "Kx_sQuVz-rgf"
      }
    },
    {
      "cell_type": "code",
      "source": [
        "import os\n",
        "import random\n",
        "\n",
        "import torch\n",
        "import torch.nn as nn\n",
        "\n",
        "import matplotlib.pyplot as plt\n",
        "import pandas as pd\n",
        "import numpy as np\n",
        "import re\n",
        "\n",
        "from sklearn.model_selection import train_test_split\n",
        "from sklearn.metrics import RocCurveDisplay\n",
        "from sklearn.feature_extraction.text import TfidfVectorizer\n",
        "\n",
        "from gensim.models import KeyedVectors\n",
        "from gensim.scripts.glove2word2vec import glove2word2vec\n",
        "\n",
        "import nltk\n",
        "from nltk.tokenize import word_tokenize\n",
        "from nltk.corpus import stopwords\n",
        "from nltk.stem import WordNetLemmatizer\n",
        "\n",
        "nltk.download('popular')\n",
        "stopwords = stopwords.words('english')\n",
        "lemmatizer = WordNetLemmatizer()\n",
        "\n",
        "!pip install torchmetrics\n",
        "import torchmetrics"
      ],
      "metadata": {
        "id": "Q5uFBpDN-yrE"
      },
      "execution_count": null,
      "outputs": []
    },
    {
      "cell_type": "markdown",
      "source": [
        "## Transform GloVe embeddings to Word2Vec format"
      ],
      "metadata": {
        "id": "NmXr_RR3-j4L"
      }
    },
    {
      "cell_type": "code",
      "source": [
        "glove_input_file = 'glove.6B.300d.txt'\n",
        "w2v_output_file = 'glv_with_w2v_format.txt'\n",
        "\n",
        "glove2word2vec(glove_input_file, w2v_output_file)"
      ],
      "metadata": {
        "id": "1IeI56Hg-lRg",
        "colab": {
          "base_uri": "https://localhost:8080/"
        },
        "outputId": "b19c2c9b-0a6b-483a-d149-7496317dd0cb"
      },
      "execution_count": null,
      "outputs": [
        {
          "output_type": "execute_result",
          "data": {
            "text/plain": [
              "(400000, 300)"
            ]
          },
          "metadata": {},
          "execution_count": 4
        }
      ]
    },
    {
      "cell_type": "markdown",
      "source": [
        "## Sets the seed of the entire notebook so results are the same every time we run"
      ],
      "metadata": {
        "id": "rDjTheip_b3G"
      }
    },
    {
      "cell_type": "code",
      "source": [
        "def set_seed(seed = 1234):\n",
        "    np.random.seed(seed)\n",
        "    random.seed(seed)\n",
        "    torch.manual_seed(seed)\n",
        "    torch.cuda.manual_seed(seed)\n",
        "    torch.backends.cudnn.deterministic = True\n",
        "    os.environ['PYTHONHASHSEED'] = str(seed)\n",
        "\n",
        "set_seed()"
      ],
      "metadata": {
        "id": "emBBotFlSpJ7"
      },
      "execution_count": null,
      "outputs": []
    },
    {
      "cell_type": "markdown",
      "source": [
        "## Load Data Set"
      ],
      "metadata": {
        "id": "sNZ041L2_xK5"
      }
    },
    {
      "cell_type": "code",
      "source": [
        "#Reading the csv file\n",
        "#csv outline [index|url|rating|review]\n",
        "df = pd.read_csv(\"/content/imdb-reviews.csv\", sep='\\t')\n",
        "\n",
        "#we make a column with {0, 1} based on rating\n",
        "df[\"result\"] = np.where(df[\"rating\"] <= 4, 0, 1)\n",
        "\n",
        "##### !! put the path for the test dataset here  !! #######\n",
        "test_df = pd.DataFrame()"
      ],
      "metadata": {
        "id": "TUHgIA2R_0Rl"
      },
      "execution_count": null,
      "outputs": []
    },
    {
      "cell_type": "markdown",
      "source": [
        "## Data Pre-processing"
      ],
      "metadata": {
        "id": "80Qv-J50_8vp"
      }
    },
    {
      "cell_type": "code",
      "source": [
        "def data_preprocessing(df):\n",
        "  # remove html tags\n",
        "  df['review'] = df['review'].apply(lambda s: re.sub('<.*?>', '', s))\n",
        "\n",
        "  # remove special chars and numbers\n",
        "  df['review'] = df['review'].str.replace(\"[^A-Za-z]+\", ' ', regex=True)\n",
        "\n",
        "  # tokenize\n",
        "  df['review'] = df['review'].apply(word_tokenize)\n",
        "\n",
        "  # remove stopwords\n",
        "  df['review'] = df['review'].apply(lambda s: ([word.lower() for word in s if word not in (stopwords)]))\n",
        "\n",
        "  # lemmatize\n",
        "  df['review'] = df['review'].apply(lambda s: ([lemmatizer.lemmatize(word) for word in s]))\n",
        "\n",
        "  # we don't use stemming cause it ruins some words and then we can't find them in glove\n",
        "\n",
        "  return df\n",
        "\n",
        "df = data_preprocessing(df)\n",
        "\n",
        "#we also processing the test data if exists\n",
        "if not test_df.empty:\n",
        "  test_df = data_preprocessing(test_df)"
      ],
      "metadata": {
        "id": "hQ84XuCu_-AP"
      },
      "execution_count": null,
      "outputs": []
    },
    {
      "cell_type": "markdown",
      "source": [
        "## Create the Set of Tensors for the Reviews"
      ],
      "metadata": {
        "id": "AoHjO3EZC7wm"
      }
    },
    {
      "cell_type": "code",
      "source": [
        "word2vec = KeyedVectors.load_word2vec_format(w2v_output_file, datatype=float, binary=False)"
      ],
      "metadata": {
        "id": "UVNLgdCeC_nk"
      },
      "execution_count": null,
      "outputs": []
    },
    {
      "cell_type": "code",
      "source": [
        "model_dict = {}\n",
        "tensors_x = []\n",
        "tensors_y = []\n",
        "\n",
        "#we make the word2vec a dict to have fast searches\n",
        "for word in word2vec.index2entity:\n",
        "  model_dict[word] = word2vec.get_vector(word)\n",
        "\n",
        "def reviews_to_tensors(df):\n",
        "\n",
        "  #iterate through all of the reviews and results\n",
        "  for (review, result) in zip(df['review'], df['result']):\n",
        "\n",
        "    ##########################  tfidf ##########################\n",
        "\n",
        "    # tfidf = TfidfVectorizer()\n",
        "    # response = tfidf.fit_transform(review)\n",
        "\n",
        "    # feature_array = np.array(tfidf.get_feature_names())\n",
        "    # tfidf_sorting = np.argsort(response.toarray()).flatten()[::-1]\n",
        "\n",
        "    # importand_words = feature_array[tfidf_sorting][:25]\n",
        "    \n",
        "    ############ replace review in for with importand_words ############\n",
        "\n",
        "    #for each review keep in a dict only the distinct words\n",
        "    review_dict = {}\n",
        "    for word in review:\n",
        "      if review_dict.get(word) == None:\n",
        "        review_dict[word] = len(review_dict)\n",
        "    \n",
        "    #for each distict word get the vector\n",
        "    tensor_x = np.zeros(300)\n",
        "    tensor_y = [float(result)]\n",
        "    count = 0\n",
        "\n",
        "    for word in review_dict:\n",
        "        #if vector exist add it in review_vectors\n",
        "        if word in model_dict:\n",
        "          #add up all vectors\n",
        "          tensor_x += model_dict[word]\n",
        "          count += 1\n",
        "    \n",
        "    #devide final vector by the sum of words\n",
        "    tensor_x /= count\n",
        "\n",
        "    #add tensor to the list\n",
        "    tensors_x.append(torch.tensor(tensor_x, dtype=torch.float))\n",
        "    tensors_y.append(torch.tensor(tensor_y, dtype=torch.float))\n",
        "\n",
        "  #stack all the tensors\n",
        "  x = torch.stack(tensors_x)\n",
        "  y = torch.stack(tensors_y)\n",
        "\n",
        "  return x, y\n",
        "\n",
        "x, y = reviews_to_tensors(df)"
      ],
      "metadata": {
        "id": "8K8WevNUDOFM"
      },
      "execution_count": null,
      "outputs": []
    },
    {
      "cell_type": "markdown",
      "source": [
        "## Split Train and Test Sets"
      ],
      "metadata": {
        "id": "91LA04yYDjfR"
      }
    },
    {
      "cell_type": "code",
      "source": [
        "#split the tensors to train and test sets\n",
        "#we dont use random_state par cause we have used the set_seed function\n",
        "X_train, X_test, Y_train, Y_test = train_test_split(x, y, train_size=0.9)"
      ],
      "metadata": {
        "id": "-Wmjr6GSDkTC"
      },
      "execution_count": null,
      "outputs": []
    },
    {
      "cell_type": "code",
      "source": [
        "#if case for running the test dataframe\n",
        "if not test_df.empty:\n",
        "  test_df['result'] = np.where(test_df['rating'] <= 4, 0, 1)\n",
        "  X_test, Y_test = reviews_to_tensors(test_df)"
      ],
      "metadata": {
        "id": "Sho8XHcgDnV-"
      },
      "execution_count": null,
      "outputs": []
    },
    {
      "cell_type": "markdown",
      "source": [
        "## Evaluation Functions"
      ],
      "metadata": {
        "id": "YkKpr-EndRuT"
      }
    },
    {
      "cell_type": "code",
      "source": [
        "accuracy = torchmetrics.Accuracy(task='binary', num_classes=1)\n",
        "precission = torchmetrics.Precision(task='binary', num_classes=1)\n",
        "recall = torchmetrics.Recall(task='binary', num_classes=1)\n",
        "f1 = torchmetrics.F1Score(task='binary', num_classes=1)"
      ],
      "metadata": {
        "id": "0yUdDE767NV5"
      },
      "execution_count": null,
      "outputs": []
    },
    {
      "cell_type": "markdown",
      "source": [
        "## Define RNN class"
      ],
      "metadata": {
        "id": "lDUr2qOt_Vfj"
      }
    },
    {
      "cell_type": "code",
      "source": [
        "class RNN(nn.Module):\n",
        "\n",
        "    def __init__(self, cell_type, output_size, input_size, hidden_size, num_layers, dropout):\n",
        "        super(RNN, self).__init__()\n",
        "\n",
        "        self.output_size = output_size\n",
        "        self.input_size = input_size\n",
        "        self.hidden_size = hidden_size\n",
        "        self.num_layers = num_layers\n",
        "\n",
        "        cells = {\n",
        "        \"LSTM\"  : nn.LSTM,\n",
        "        \"GRU\"   : nn.GRU\n",
        "        }\n",
        "\n",
        "        self.cell_type = cell_type\n",
        "        self.rnn = cells[cell_type](\n",
        "            input_size=input_size,        #The number of expected features in the input x\n",
        "            hidden_size=self.hidden_size, #The number of features in the hidden state h\n",
        "            num_layers=self.num_layers,   #Number of recurrent layers (>=2 means stacking two RNNs together to form a stacked RNN)\n",
        "            batch_first=True,             #If True, then the input and output tensors are provided as (batch, seq, feature)\n",
        "            dropout=dropout,              #Dropout layer on the outputs of each RNN layer except the last layer, with dropout probability equal to dropout\n",
        "            bidirectional=True            #If True, becomes a bidirectional RNN\n",
        "        )\n",
        "\n",
        "        # simple net\n",
        "        # self.linear = nn.Linear(self.hidden_size*2,self.output_size) # we mul *2 cause one layer goin forward one backward\n",
        "        # self.out = nn.Sigmoid()\n",
        "\n",
        "        self.linear1 = nn.Linear(self.hidden_size*2, self.hidden_size)\n",
        "        self.linear2 = nn.Linear(self.hidden_size, int(self.hidden_size/2))\n",
        "        self.linear3 = nn.Linear(int(self.hidden_size/2), int(self.hidden_size/4))\n",
        "        self.linear4 = nn.Linear(int(self.hidden_size/4), self.output_size)\n",
        "        self.relu = nn.ReLU()\n",
        "        self.out = nn.Sigmoid()\n",
        "\n",
        "\n",
        "    def forward(self, x):\n",
        "\n",
        "      if self.cell_type == 'LSTM':\n",
        "        r_out, (h_n, h_c) = self.rnn(x) \n",
        "      else:\n",
        "        r_out, h_n = self.rnn(x)\n",
        "\n",
        "      # out = self.linear(r_out)\n",
        "      # out = self.out(out)\n",
        "\n",
        "      out = self.linear1(r_out)\n",
        "      out = self.relu(out)\n",
        "      out = self.linear2(out)\n",
        "      out = self.relu(out)\n",
        "      out = self.linear3(out)\n",
        "      out = self.relu(out)\n",
        "      out = self.linear4(out)\n",
        "      out = self.out(out)\n",
        "\n",
        "      return out\n"
      ],
      "metadata": {
        "id": "TqNwla60_QeB"
      },
      "execution_count": null,
      "outputs": []
    },
    {
      "cell_type": "markdown",
      "source": [
        "## Initialize the train and test dataloader"
      ],
      "metadata": {
        "id": "cOy7BwhzDtp9"
      }
    },
    {
      "cell_type": "code",
      "source": [
        "def InitialiseDataloaders(batch_size):\n",
        "  #Initialise dataloader\n",
        "  dataset_train = torch.utils.data.TensorDataset(X_train, Y_train)\n",
        "  dataloader_train = torch.utils.data.DataLoader(dataset_train, batch_size=batch_size)\n",
        "\n",
        "  dataset_test = torch.utils.data.TensorDataset(X_test, Y_test)\n",
        "  dataloader_test = torch.utils.data.DataLoader(dataset_test, batch_size=batch_size)\n",
        "\n",
        "  return dataloader_train, dataloader_test"
      ],
      "metadata": {
        "id": "StiJPdY_DwT_"
      },
      "execution_count": null,
      "outputs": []
    },
    {
      "cell_type": "markdown",
      "source": [
        "## Network Train and Test Functions"
      ],
      "metadata": {
        "id": "Gx4l4-_LdUTU"
      }
    },
    {
      "cell_type": "code",
      "source": [
        "input_size = X_train.shape[1]\n",
        "output_size = 1\n",
        "\n",
        "#List for the plots\n",
        "list_loss_train_all = []\n",
        "list_loss_train = []\n",
        "list_loss_test = []\n",
        "\n",
        "list_accuracy_train = []\n",
        "list_accuracy_test = []\n",
        "\n",
        "def train_test_net(input_size, output_size, cell_type, hidden_size, num_layers, dropout, batch_value, learning_rate, clip_value):\n",
        "  \n",
        "  list_loss_train_all.clear()\n",
        "  list_loss_train.clear()\n",
        "  list_loss_test.clear()\n",
        "\n",
        "  list_accuracy_train.clear()\n",
        "  list_accuracy_test.clear()\n",
        "\n",
        "  torch.set_grad_enabled(True)\n",
        "\n",
        "  #setup model\n",
        "  net = RNN(cell_type=cell_type, output_size=output_size, input_size=input_size, hidden_size=hidden_size, num_layers=num_layers, dropout=dropout)\n",
        "\n",
        "  #optimizer\n",
        "  optimizer = torch.optim.Adam(net.parameters(), lr=learning_rate)\n",
        "\n",
        "  #loss func\n",
        "  loss_func = nn.BCELoss()\n",
        "\n",
        "  #create dataloaders\n",
        "  dataloader_train, dataloader_test = InitialiseDataloaders(batch_value)\n",
        "\n",
        "  #set the net ready to train\n",
        "  net.train()\n",
        "\n",
        "  nepoch = 8\n",
        "\n",
        "  for epoch in range(nepoch):\n",
        "    batch_losses_train = 0\n",
        "    batch_accuracy_train = 0\n",
        "    batch_precission_train = 0\n",
        "    batch_recall_train = 0\n",
        "    batch_f1_train = 0\n",
        "\n",
        "    batch_losses_test = 0\n",
        "    batch_accuracy_test = 0\n",
        "    batch_precission_test = 0\n",
        "    batch_recall_test = 0\n",
        "    batch_f1_test = 0\n",
        "\n",
        "    #for every epoch we train the model\n",
        "    for x_batch, y_batch in dataloader_train:\n",
        "\n",
        "      #Delete previously stored gradients\n",
        "      optimizer.zero_grad()\n",
        "\n",
        "      y_pred = net(x_batch)\n",
        "\n",
        "      #we find loss\n",
        "      loss = loss_func(y_pred, y_batch)\n",
        "\n",
        "      #Perform backpropagation starting from the loss calculated in this epoch\n",
        "      loss.backward()\n",
        "\n",
        "      #clip gradients\n",
        "      if clip_value > 0 :\n",
        "        torch.nn.utils.clip_grad_norm_(net.parameters(), clip_value)\n",
        "\n",
        "      #Update model's weights based on the gradients calculated during backprop\n",
        "      optimizer.step()\n",
        "\n",
        "      list_loss_train_all.append(loss.item())\n",
        "      batch_losses_train += loss.item()\n",
        "      batch_accuracy_train += accuracy(torch.round(y_pred), y_batch)\n",
        "      batch_precission_train += precission(torch.round(y_pred), y_batch)\n",
        "      batch_recall_train += recall(torch.round(y_pred), y_batch)\n",
        "      batch_f1_train += f1(torch.round(y_pred), y_batch)\n",
        "\n",
        "    #keep values for the curves\n",
        "    list_loss_train.append(batch_losses_train/len(dataloader_train))\n",
        "    list_accuracy_train.append(batch_accuracy_train/len(dataloader_train))\n",
        "\n",
        "    print(f\"Epoch {epoch}\")\n",
        "    print(f\"  Train {epoch:3}: Loss = {batch_losses_train/len(dataloader_train):.5f} Accuracy = {batch_accuracy_train/len(dataloader_train):.5f} Precission = {batch_precission_train/len(dataloader_train):.5f} Recall = {batch_recall_train/len(dataloader_train):.5f} F1 = {batch_f1_train/len(dataloader_train):.5f}\")\n",
        "\n",
        "    #for every epoch we test the model\n",
        "    net.eval()\n",
        "\n",
        "    for x_batch, y_batch in dataloader_test:\n",
        "        y_pred = net(x_batch)\n",
        "\n",
        "        batch_losses_test += loss_func(y_pred, y_batch).item()\n",
        "        batch_accuracy_test += accuracy(torch.round(y_pred), y_batch)\n",
        "        batch_precission_test += precission(torch.round(y_pred), y_batch)\n",
        "        batch_recall_test += recall(torch.round(y_pred), y_batch)\n",
        "        batch_f1_test += f1(torch.round(y_pred), y_batch)\n",
        "        \n",
        "    #keep values for the curves\n",
        "    list_loss_test.append(batch_losses_test/len(dataloader_test))\n",
        "    list_accuracy_test.append(batch_accuracy_test/len(dataloader_test))\n",
        "\n",
        "    print(f\"  Test {epoch:4}: Loss = {batch_losses_test/len(dataloader_test):.5f} Accuracy = {batch_accuracy_test/len(dataloader_test):.5f} Precission = {batch_precission_test/len(dataloader_test):.5f} Recall = {batch_recall_test/len(dataloader_test):.5f} F1 = {batch_f1_test/len(dataloader_test):.5f}\")\n",
        "    \n",
        "    # Return to training mode\n",
        "    net.train()\n",
        "\n",
        "  #finds best combination base on f1 metric from test\n",
        "  return batch_f1_test/len(dataloader_test), net"
      ],
      "metadata": {
        "id": "zH9-dvyTJWWE"
      },
      "execution_count": null,
      "outputs": []
    },
    {
      "cell_type": "code",
      "source": [
        "def test_net(saved_model, batch_value=256):\n",
        "  #loss func\n",
        "  loss_func = nn.BCELoss()\n",
        "\n",
        "  #create dataloaders\n",
        "  _, dataloader_test = InitialiseDataloaders(batch_value)\n",
        "\n",
        "  batch_losses_test = 0\n",
        "  batch_accuracy_test = 0\n",
        "  batch_precission_test = 0\n",
        "  batch_recall_test = 0\n",
        "  batch_f1_test = 0\n",
        "\n",
        "  saved_model.eval()\n",
        "\n",
        "  for x_batch, y_batch in dataloader_test:\n",
        "      y_pred = saved_model(x_batch)\n",
        "\n",
        "      batch_losses_test += loss_func(y_pred, y_batch).item()\n",
        "      batch_accuracy_test += accuracy(torch.round(y_pred), y_batch)\n",
        "      batch_precission_test += precission(torch.round(y_pred), y_batch)\n",
        "      batch_recall_test += recall(torch.round(y_pred), y_batch)\n",
        "      batch_f1_test += f1(torch.round(y_pred), y_batch)\n",
        "      \n",
        "  print(f\"Test Loss = {batch_losses_test/len(dataloader_test):.5f} Accuracy = {batch_accuracy_test/len(dataloader_test):.5f} Precission = {batch_precission_test/len(dataloader_test):.5f} Recall = {batch_recall_test/len(dataloader_test):.5f} F1 = {batch_f1_test/len(dataloader_test):.5f}\")\n",
        "  \n",
        "  return"
      ],
      "metadata": {
        "id": "WrfQM56icIwm"
      },
      "execution_count": null,
      "outputs": []
    },
    {
      "cell_type": "markdown",
      "source": [
        "## LSTM / GRU Parameters Tuning"
      ],
      "metadata": {
        "id": "B-W_wJH5Q18R"
      }
    },
    {
      "cell_type": "code",
      "source": [
        "# ============= Best parameters for LSTM =========== #\n",
        "# cell_type = 'LSTM'\n",
        "# hidden_size = 64\n",
        "# num_layers = 3\n",
        "# dropout = 0.4\n",
        "# clip_value = 5\n",
        "# batch_value = 256\n",
        "# learning_rate = 1e-3\n",
        "# ================================================== #\n",
        "\n",
        "# ============= Best parameters for GRU =========== #\n",
        "# cell_type = 'GRU'\n",
        "# hidden_size = 128\n",
        "# num_layers = 4\n",
        "# dropout = 0.4\n",
        "# clip_value = 4\n",
        "# batch_value = 256\n",
        "# learning_rate = 1e-3\n",
        "# ================================================== #"
      ],
      "metadata": {
        "id": "slXzqpIijnAM"
      },
      "execution_count": null,
      "outputs": []
    },
    {
      "cell_type": "markdown",
      "source": [
        "### Hidden Size Tuning"
      ],
      "metadata": {
        "id": "-Z5GfPzijY-7"
      }
    },
    {
      "cell_type": "code",
      "source": [
        "def hidden_size_tune(cell_type, num_layers=2, dropout=0.0, batch_value=64, learning_rate=1e-3, clip_value=0):\n",
        "  all_hidden_sizes = []\n",
        "\n",
        "  for hidden_size_n in [64, 128, 256]:\n",
        "    print(\"New training for hidden size = \" + str(hidden_size_n))\n",
        "    curr, _ = train_test_net(input_size=input_size, output_size=output_size, cell_type=cell_type, hidden_size=hidden_size_n, num_layers=num_layers, dropout=dropout, batch_value=batch_value, learning_rate=learning_rate, clip_value=clip_value)\n",
        "    all_hidden_sizes.append((curr, hidden_size_n))\n",
        "  \n",
        "  all_hidden_sizes.sort(reverse=True)\n",
        "  best_f1_hidden_size, best_hidden_size = all_hidden_sizes[0]\n",
        "\n",
        "  print(\"Best number of hidden_size for \" + cell_type + \" = \" + str(best_hidden_size) + \" with f1 score: \" + str(best_f1_hidden_size))\n",
        "\n",
        "  return all_hidden_sizes\n",
        "\n",
        "#hidden_sz_LSTM = hidden_size_tune('LSTM')\n",
        "#hidden_sz_GRU = hidden_size_tune('GRU')"
      ],
      "metadata": {
        "id": "XjYOio4eNlsz",
        "colab": {
          "base_uri": "https://localhost:8080/"
        },
        "outputId": "82a076d6-935c-41d7-e7a6-6e620a5b9366"
      },
      "execution_count": null,
      "outputs": [
        {
          "output_type": "stream",
          "name": "stdout",
          "text": [
            "Best number of hidden_size for LSTM = 64 with f1 score: 0.76175\n",
            "Best number of hidden_size for GRU = 128 with f1 score: 0.7663\n"
          ]
        }
      ]
    },
    {
      "cell_type": "markdown",
      "source": [
        "### Number of Layers Tuning"
      ],
      "metadata": {
        "id": "mpbYOvQG9n7L"
      }
    },
    {
      "cell_type": "code",
      "source": [
        "def num_layers_tune(cell_type, hidden_size=64, dropout=0.0, batch_value=64, learning_rate=1e-3, clip_value=0):\n",
        "  all_num_layers = []\n",
        "\n",
        "  for num_layers_n in [2, 3, 4, 5]:\n",
        "    print(\"New training for num_layer = \" + str(num_layers_n))\n",
        "    curr, _ = train_test_net(input_size=input_size, output_size=output_size, cell_type=cell_type, hidden_size=hidden_size, num_layers=num_layers_n, dropout=dropout, batch_value=batch_value, learning_rate=learning_rate, clip_value=clip_value)\n",
        "    all_num_layers.append((curr, num_layers_n))\n",
        "\n",
        "  all_num_layers.sort(reverse=True)\n",
        "  best_f1_num_layer, best_num_layer = all_num_layers[0]\n",
        "\n",
        "  print(\"Best number of layers for \" + cell_type + \" = \" + str(best_num_layer) + \" with f1 score: \" + str(best_f1_num_layer))\n",
        "\n",
        "  return all_num_layers\n",
        "\n",
        "#num_layers_LSTM = num_layers_tune('LSTM', hidden_size=64)\n",
        "#num_layers_GRU = num_layers_tune('GRU', hidden_size=128)"
      ],
      "metadata": {
        "id": "N-dB4fPvjaE3",
        "colab": {
          "base_uri": "https://localhost:8080/"
        },
        "outputId": "3e5e448c-5db9-4f1a-f93a-d8dd225a1eae"
      },
      "execution_count": null,
      "outputs": [
        {
          "output_type": "stream",
          "name": "stdout",
          "text": [
            "Best number of layers for LSTM = 3 with f1 score: 0.73890\n",
            "Best number of layers for GRU = 4 with f1 score: 0.7618\n"
          ]
        }
      ]
    },
    {
      "cell_type": "markdown",
      "source": [
        "### Dropout Tuning"
      ],
      "metadata": {
        "id": "cAwQ8M2qYIEH"
      }
    },
    {
      "cell_type": "code",
      "source": [
        "def dropout_tune(cell_type, hidden_size=64, num_layers=2, batch_value=64, learning_rate=1e-3, clip_value=0):\n",
        "  all_dropouts = []\n",
        "\n",
        "  for dropout_n in [0.1, 0.25, 0.4, 0.5]:\n",
        "    print(\"New training for dropout = \" + str(dropout_n))\n",
        "    curr, _ = train_test_net(input_size=input_size, output_size=output_size, cell_type=cell_type, hidden_size=hidden_size, num_layers=num_layers, dropout=dropout_n, batch_value=batch_value, learning_rate=learning_rate, clip_value=clip_value)\n",
        "    all_dropouts.append((curr, dropout_n))\n",
        "\n",
        "  all_dropouts.sort(reverse=True)\n",
        "  best_f1_dropout, best_dropout = all_dropouts[0]\n",
        "\n",
        "  print(\"Best number of dropout for \" + cell_type + \" = \" + str(best_dropout) + \" with f1 score: \" + str(best_f1_dropout))\n",
        "\n",
        "  return all_dropouts\n",
        "\n",
        "#dropout_LSTM = dropout_tune('LSTM', hidden_size=64, num_layers=3)\n",
        "#dropout_GRU = dropout_tune('GRU', hidden_size=128, num_layers=4)"
      ],
      "metadata": {
        "id": "G-2dfwsepPJl",
        "colab": {
          "base_uri": "https://localhost:8080/"
        },
        "outputId": "51196713-cdf7-4e53-e448-31006fcd4331"
      },
      "execution_count": null,
      "outputs": [
        {
          "output_type": "stream",
          "name": "stdout",
          "text": [
            "Best number of dropout for LSTM = 0.4 with f1 score: 0.75006\n",
            "Best number of dropout for GRU = 0.4 with f1 score: 0.7628\n"
          ]
        }
      ]
    },
    {
      "cell_type": "markdown",
      "source": [
        "### Batch Value Tuning"
      ],
      "metadata": {
        "id": "twlpHaaQrHXf"
      }
    },
    {
      "cell_type": "code",
      "source": [
        "def batch_tune(cell_type, hidden_size=64, num_layers=2, dropout=0.0, learning_rate=1e-3, clip_value=0):\n",
        "  all_batch_values = []\n",
        "\n",
        "  for batch_value_n in [64, 128, 256, 512, 1024]:\n",
        "    print(\"New training for batch value = \" + str(batch_value_n))\n",
        "    curr, _ = train_test_net(input_size=input_size, output_size=output_size, cell_type=cell_type, hidden_size=hidden_size, num_layers=num_layers, dropout=dropout, batch_value=batch_value_n, learning_rate=learning_rate, clip_value=clip_value)\n",
        "    all_batch_values.append((curr, batch_value_n))\n",
        "\n",
        "  all_batch_values.sort(reverse=True)\n",
        "  best_f1_batch_value, best_batch_value = all_batch_values[0]\n",
        "\n",
        "  print(\"Best number of batch value for \" + cell_type + \" = \" + str(best_batch_value) + \" with f1 score: \" + str(best_f1_batch_value))\n",
        "\n",
        "#batch_LSTM = batch_tune('LSTM', hidden_size=64, num_layers=3, dropout=0.4)\n",
        "#batch_GRU = batch_tune('GRU', hidden_size=128, num_layers=4, dropout=0.4)"
      ],
      "metadata": {
        "id": "lpnFGycu71rD",
        "colab": {
          "base_uri": "https://localhost:8080/"
        },
        "outputId": "5348d139-d96f-4d88-aa18-68f87b6348e9"
      },
      "execution_count": null,
      "outputs": [
        {
          "output_type": "stream",
          "name": "stdout",
          "text": [
            "Best number of batch value for LSTM = 256 with f1 score: 0.75468\n",
            "Best number of batch value for GRU = 256 with f1 score: 0.75628\n"
          ]
        }
      ]
    },
    {
      "cell_type": "markdown",
      "source": [
        "### Learning rate Tuning"
      ],
      "metadata": {
        "id": "JPbHLvbP40SP"
      }
    },
    {
      "cell_type": "code",
      "source": [
        "def learning_rate_tune(cell_type, hidden_size=64, num_layers=2, dropout=0.0, batch_value=256, clip_value=0):\n",
        "  all_learning_rates = []\n",
        "\n",
        "  for learning_rate_n in [1e-3, 1e-4, 1e-5]:\n",
        "    print(\"New training for learning rate value = \" + str(learning_rate_n))\n",
        "    curr, _ = train_test_net(input_size=input_size, output_size=output_size, cell_type=cell_type, hidden_size=hidden_size, num_layers=num_layers, dropout=dropout, batch_value=batch_value, learning_rate=learning_rate_n, clip_value=clip_value)\n",
        "    all_learning_rates.append((curr, learning_rate_n))\n",
        "\n",
        "  all_learning_rates.sort(reverse=True)\n",
        "  best_f1_learning_rate, best_learning_rate = all_learning_rates[0]\n",
        "\n",
        "  print(\"Best number of learning rate value for \" + cell_type + \" = \" + str(best_learning_rate) + \" with f1 score: \" + str(best_f1_learning_rate))\n",
        "\n",
        "  return all_learning_rates\n",
        "\n",
        "#learning_rate_lstm = learning_rate_tune('LSTM', hidden_size=64, num_layers=3, dropout=0.4, batch_value=256)\n",
        "#learning_rate_gru = learning_rate_tune('GRU', hidden_size=128, num_layers=4, dropout=0.4, batch_value=256)"
      ],
      "metadata": {
        "id": "1TSiZo-1l-QY",
        "colab": {
          "base_uri": "https://localhost:8080/"
        },
        "outputId": "ce42a671-2c42-4d3d-eb0a-67972799bd4a"
      },
      "execution_count": null,
      "outputs": [
        {
          "output_type": "stream",
          "name": "stdout",
          "text": [
            "Best number of learning rate value for LSTM = 1e-3 with f1 score: 0.75872\n",
            "Best number of learning rate value for GRU = 1e-3 with f1 score: 0.75446\n"
          ]
        }
      ]
    },
    {
      "cell_type": "markdown",
      "source": [
        "### Clipping Tuning"
      ],
      "metadata": {
        "id": "Ip-IIvrZD3S4"
      }
    },
    {
      "cell_type": "code",
      "source": [
        "def clipping_tune(cell_type, hidden_size=64, num_layers=2, dropout=0.0, batch_value=256, learning_rate=1e-3):\n",
        "  all_clipping_values = []\n",
        "\n",
        "  for clipping_n in [1, 2, 3, 4, 5]:\n",
        "    print(\"New training for clip value = \" + str(clipping_n))\n",
        "    curr, _ = train_test_net(input_size=input_size, output_size=output_size, cell_type=cell_type, hidden_size=hidden_size, num_layers=num_layers, dropout=dropout, batch_value=batch_value, learning_rate=learning_rate, clip_value=clipping_n)\n",
        "    all_clipping_values.append((curr, clipping_n))\n",
        "\n",
        "  all_clipping_values.sort(reverse=True)\n",
        "  best_f1_clipping_value, best_clipping_value = all_clipping_values[0]\n",
        "\n",
        "  print(\"Best number of clipping value for \" + cell_type + \" = \" + str(best_clipping_value) + \" with f1 score: \" + str(best_f1_clipping_value))\n",
        "\n",
        "#clipping_LSTM = clipping_tune('LSTM', hidden_size=64, num_layers=3, dropout=0.4, batch_value=256, learning_rate=1e-3)\n",
        "#clipping_GRU = clipping_tune('GRU', hidden_size=128, num_layers=4, dropout=0.4, batch_value=256, learning_rate=1e-3)"
      ],
      "metadata": {
        "id": "2EexxhwQ3S-s",
        "colab": {
          "base_uri": "https://localhost:8080/"
        },
        "outputId": "ad786495-6b4b-480f-9144-3353870941cc"
      },
      "execution_count": null,
      "outputs": [
        {
          "output_type": "stream",
          "name": "stdout",
          "text": [
            "Best number of clipping value for LSTM = 5 with f1 score: 0.76410\n",
            "Best number of clipping value for GRU = 4 with f1 score: 0.75962\n"
          ]
        }
      ]
    },
    {
      "cell_type": "markdown",
      "source": [
        "### LSTM vs GRU"
      ],
      "metadata": {
        "id": "VTGIngZlSw4O"
      }
    },
    {
      "cell_type": "code",
      "source": [
        "# these hyper-parameters are the best overall for lstm\n",
        "# f1_LSTM, _ = train_test_net(input_size=input_size, output_size=output_size, cell_type='LSTM', hidden_size=64, num_layers=3, dropout=0.4, batch_value=256, learning_rate=1e-3, clip_value=5)\n",
        "# print(\"f1 score \" + str(f1_LSTM) + \" for LSTM cells\")"
      ],
      "metadata": {
        "id": "Dn2l0xDvS3Sy",
        "colab": {
          "base_uri": "https://localhost:8080/"
        },
        "outputId": "d68c9422-dfec-4e48-a06c-bf19b1d9be24"
      },
      "execution_count": null,
      "outputs": [
        {
          "output_type": "stream",
          "name": "stdout",
          "text": [
            "f1 score 0.84529 for LSTM cells\n"
          ]
        }
      ]
    },
    {
      "cell_type": "code",
      "source": [
        "# these hyper-parameters are the best overall for lstm\n",
        "# resGRU, _ = train_test_net(input_size=input_size, output_size=output_size, cell_type='GRU', hidden_size=128, num_layers=4, dropout=0.4, batch_value=256, learning_rate=1e-3, clip_value=4)\n",
        "# print(\"f1 score \" + str(resGRU) + \" for GRU cells\")"
      ],
      "metadata": {
        "id": "xIyyZ9x4P02b",
        "colab": {
          "base_uri": "https://localhost:8080/"
        },
        "outputId": "80c2994d-12cd-4bf0-8712-dfadd74b4700"
      },
      "execution_count": null,
      "outputs": [
        {
          "output_type": "stream",
          "name": "stdout",
          "text": [
            "f1 score 0.84456 for GRU cells\n"
          ]
        }
      ]
    },
    {
      "cell_type": "markdown",
      "source": [
        "## Final Model"
      ],
      "metadata": {
        "id": "wFh7rkrjjYg9"
      }
    },
    {
      "cell_type": "markdown",
      "source": [
        "#### Train and Test"
      ],
      "metadata": {
        "id": "s5T8bisCmIm2"
      }
    },
    {
      "cell_type": "code",
      "source": [
        "_ , final_net = train_test_net(input_size=input_size, output_size=output_size, cell_type='LSTM', hidden_size=64, num_layers=3, dropout=0.4, batch_value=256, learning_rate=1e-3, clip_value=5)"
      ],
      "metadata": {
        "colab": {
          "base_uri": "https://localhost:8080/"
        },
        "id": "oRjxDlcQjbz4",
        "outputId": "e78e9c0d-e215-4334-c108-4c8b3716307c"
      },
      "execution_count": 45,
      "outputs": [
        {
          "output_type": "stream",
          "name": "stdout",
          "text": [
            "Epoch 0\n",
            "  Train   0: Loss = 0.57860 Accuracy = 0.65502 Precission = 0.61244 Recall = 0.68368 F1 = 0.60967\n",
            "  Test    0: Loss = 0.41801 Accuracy = 0.80612 Precission = 0.88201 Recall = 0.71310 F1 = 0.78814\n",
            "Epoch 1\n",
            "  Train   1: Loss = 0.39744 Accuracy = 0.82361 Precission = 0.82532 Recall = 0.82437 F1 = 0.82257\n",
            "  Test    1: Loss = 0.37208 Accuracy = 0.82786 Precission = 0.84982 Recall = 0.80333 F1 = 0.82544\n",
            "Epoch 2\n",
            "  Train   2: Loss = 0.38064 Accuracy = 0.83248 Precission = 0.83334 Recall = 0.83339 F1 = 0.83167\n",
            "  Test    2: Loss = 0.36723 Accuracy = 0.83421 Precission = 0.85123 Recall = 0.81643 F1 = 0.83301\n",
            "Epoch 3\n",
            "  Train   3: Loss = 0.37570 Accuracy = 0.83438 Precission = 0.83417 Recall = 0.83606 F1 = 0.83364\n",
            "  Test    3: Loss = 0.36480 Accuracy = 0.83362 Precission = 0.84273 Recall = 0.82709 F1 = 0.83443\n",
            "Epoch 4\n",
            "  Train   4: Loss = 0.37120 Accuracy = 0.83770 Precission = 0.83729 Recall = 0.83969 F1 = 0.83712\n",
            "  Test    4: Loss = 0.36347 Accuracy = 0.83368 Precission = 0.83683 Recall = 0.83599 F1 = 0.83597\n",
            "Epoch 5\n",
            "  Train   5: Loss = 0.36713 Accuracy = 0.83924 Precission = 0.83731 Recall = 0.84271 F1 = 0.83887\n",
            "  Test    5: Loss = 0.36308 Accuracy = 0.83520 Precission = 0.84687 Recall = 0.82532 F1 = 0.83545\n",
            "Epoch 6\n",
            "  Train   6: Loss = 0.36397 Accuracy = 0.84213 Precission = 0.84021 Recall = 0.84597 F1 = 0.84188\n",
            "  Test    6: Loss = 0.36210 Accuracy = 0.83526 Precission = 0.84720 Recall = 0.82506 F1 = 0.83548\n",
            "Epoch 7\n",
            "  Train   7: Loss = 0.36218 Accuracy = 0.84257 Precission = 0.84100 Recall = 0.84605 F1 = 0.84229\n",
            "  Test    7: Loss = 0.36370 Accuracy = 0.83629 Precission = 0.84775 Recall = 0.82627 F1 = 0.83651\n"
          ]
        }
      ]
    },
    {
      "cell_type": "markdown",
      "source": [
        "#### Test saved model"
      ],
      "metadata": {
        "id": "rW7VBsiimPHL"
      }
    },
    {
      "cell_type": "code",
      "source": [
        "saved_model = torch.jit.load('myNN.pt')\n",
        "test_net(saved_model=saved_model)"
      ],
      "metadata": {
        "colab": {
          "base_uri": "https://localhost:8080/"
        },
        "id": "97aBYHWKeD_C",
        "outputId": "95384db4-da7f-4ed1-b657-d0f4105776af"
      },
      "execution_count": 33,
      "outputs": [
        {
          "output_type": "stream",
          "name": "stdout",
          "text": [
            "Test Loss = 0.36590 Accuracy = 0.83281 Precission = 0.84069 Recall = 0.82842 F1 = 0.83404\n"
          ]
        }
      ]
    },
    {
      "cell_type": "markdown",
      "source": [
        "## Plots"
      ],
      "metadata": {
        "id": "KjugCXI9f6Ah"
      }
    },
    {
      "cell_type": "markdown",
      "source": [
        "### BCELoss Plot"
      ],
      "metadata": {
        "id": "0NJuiZpj_odH"
      }
    },
    {
      "cell_type": "code",
      "source": [
        "plt.figure(figsize=(12,5))\n",
        "plt.plot(list_loss_train_all)\n",
        "plt.xlabel('# of steps')\n",
        "plt.ylabel('BCELoss')\n",
        "plt.show()"
      ],
      "metadata": {
        "colab": {
          "base_uri": "https://localhost:8080/",
          "height": 334
        },
        "id": "tsUe91AA9JJh",
        "outputId": "89aaef49-6e88-415f-fa45-d6ee966e47b9"
      },
      "execution_count": 46,
      "outputs": [
        {
          "output_type": "display_data",
          "data": {
            "text/plain": [
              "<Figure size 864x360 with 1 Axes>"
            ],
            "image/png": "[encoded data removed]"
          },
          "metadata": {
            "needs_background": "light"
          }
        }
      ]
    },
    {
      "cell_type": "markdown",
      "source": [
        "### Optimization Learning Curve"
      ],
      "metadata": {
        "id": "B5IKAKCuf8sV"
      }
    },
    {
      "cell_type": "code",
      "source": [
        "plt.xlabel('epoch')\n",
        "plt.ylabel('loss')\n",
        "\n",
        "plt.plot(list_loss_train, label = 'train')\n",
        "plt.plot(list_loss_test, label = 'test')\n",
        "plt.title('Optimization Learning Curve')\n",
        "plt.legend()"
      ],
      "metadata": {
        "colab": {
          "base_uri": "https://localhost:8080/",
          "height": 312
        },
        "id": "E_HG15unf-86",
        "outputId": "1c9b175b-6a6e-4499-feb0-730acf0a3880"
      },
      "execution_count": 47,
      "outputs": [
        {
          "output_type": "execute_result",
          "data": {
            "text/plain": [
              "<matplotlib.legend.Legend at 0x7f1197802af0>"
            ]
          },
          "metadata": {},
          "execution_count": 47
        },
        {
          "output_type": "display_data",
          "data": {
            "text/plain": [
              "<Figure size 432x288 with 1 Axes>"
            ],
            "image/png": "[encoded data removed]"
          },
          "metadata": {
            "needs_background": "light"
          }
        }
      ]
    },
    {
      "cell_type": "markdown",
      "source": [
        "### Performance Learning Curve"
      ],
      "metadata": {
        "id": "if8fzur5gBOE"
      }
    },
    {
      "cell_type": "code",
      "source": [
        "plt.xlabel('epoch')\n",
        "plt.ylabel('accuracy')\n",
        "\n",
        "plt.plot(list_accuracy_train, label = 'train')\n",
        "plt.plot(list_accuracy_test, label = 'test')\n",
        "\n",
        "plt.title('Permormance Learning Curve')\n",
        "plt.legend()"
      ],
      "metadata": {
        "colab": {
          "base_uri": "https://localhost:8080/",
          "height": 312
        },
        "id": "PyUMtn8YgB4S",
        "outputId": "5da54f2a-5ed2-4ee9-adcd-f754f5ec5486"
      },
      "execution_count": 48,
      "outputs": [
        {
          "output_type": "execute_result",
          "data": {
            "text/plain": [
              "<matplotlib.legend.Legend at 0x7f11977e0df0>"
            ]
          },
          "metadata": {},
          "execution_count": 48
        },
        {
          "output_type": "display_data",
          "data": {
            "text/plain": [
              "<Figure size 432x288 with 1 Axes>"
            ],
            "image/png": "[encoded data removed]"
          },
          "metadata": {
            "needs_background": "light"
          }
        }
      ]
    },
    {
      "cell_type": "markdown",
      "source": [
        "### ROC curve"
      ],
      "metadata": {
        "id": "xChNyyd5gGYY"
      }
    },
    {
      "cell_type": "code",
      "source": [
        "y_pred = final_net(X_test)\n",
        "RocCurveDisplay.from_predictions(Y_test, y_pred.detach().numpy())"
      ],
      "metadata": {
        "id": "9GHT5JR6gFnQ",
        "colab": {
          "base_uri": "https://localhost:8080/",
          "height": 296
        },
        "outputId": "b7b47b79-5f09-49b5-8d30-c3a9651b7a4b"
      },
      "execution_count": 44,
      "outputs": [
        {
          "output_type": "execute_result",
          "data": {
            "text/plain": [
              "<sklearn.metrics._plot.roc_curve.RocCurveDisplay at 0x7f1197c0c7f0>"
            ]
          },
          "metadata": {},
          "execution_count": 44
        },
        {
          "output_type": "display_data",
          "data": {
            "text/plain": [
              "<Figure size 432x288 with 1 Axes>"
            ],
            "image/png": "[encoded data removed]"
          },
          "metadata": {
            "needs_background": "light"
          }
        }
      ]
    },
    {
      "cell_type": "markdown",
      "source": [
        "## Save and load a NN with pyTorch"
      ],
      "metadata": {
        "id": "44rgK2uRSR3P"
      }
    },
    {
      "cell_type": "code",
      "source": [
        "#model_scripted = torch.jit.script(final_net)\n",
        "#model_scripted.save('myNN.pt')"
      ],
      "metadata": {
        "id": "NpMfVfSeSS7t"
      },
      "execution_count": 49,
      "outputs": []
    }
  ]
}