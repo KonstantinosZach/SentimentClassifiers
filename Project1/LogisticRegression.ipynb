{
  "cells": [
    {
      "cell_type": "markdown",
      "metadata": {
        "id": "rWvGPpg9f5Se"
      },
      "source": [
        "# Artificial Intelligence II: HW1"
      ]
    },
    {
      "cell_type": "markdown",
      "metadata": {
        "id": "H7T8A37Ns3Nk"
      },
      "source": [
        "## Imports"
      ]
    },
    {
      "cell_type": "code",
      "execution_count": null,
      "metadata": {
        "id": "hviYDW1Pfyip"
      },
      "outputs": [],
      "source": [
        "import pandas as pd\n",
        "import numpy as np\n",
        "import matplotlib.pyplot as plt\n",
        "import re\n",
        "\n",
        "from sklearn.model_selection import train_test_split, KFold, cross_validate, GridSearchCV\n",
        "from sklearn.feature_extraction.text import CountVectorizer\n",
        "from sklearn.linear_model import LogisticRegression\n",
        "from sklearn.metrics import f1_score, precision_score, recall_score, accuracy_score, ConfusionMatrixDisplay, PrecisionRecallDisplay\n",
        "\n",
        "import nltk\n",
        "nltk.download('stopwords')\n",
        "from nltk.corpus import stopwords"
      ]
    },
    {
      "cell_type": "markdown",
      "metadata": {
        "id": "a7gngNBcJXQC"
      },
      "source": [
        "## Loading Dataset"
      ]
    },
    {
      "cell_type": "code",
      "execution_count": 698,
      "metadata": {
        "id": "rYtiNUkegZbq"
      },
      "outputs": [],
      "source": [
        "\n",
        "#Reading the csv file\n",
        "#csv outline [index|url|rating|review]\n",
        "df = pd.read_csv(\"/content/imdb-reviews.csv\", sep='\\t')\n",
        "\n",
        "##### put the path for the test dataset here #######\n",
        "test_df = pd.DataFrame()\n",
        "\n",
        "#we make a column with {0, 1} based on rating\n",
        "df[\"result\"] = np.where(df[\"rating\"] <= 4, 0, 1)\n",
        "\n",
        "#updated csv file [index|url|rating|review|result]"
      ]
    },
    {
      "cell_type": "markdown",
      "metadata": {
        "id": "0njGkifQ-zrX"
      },
      "source": [
        "## Data Pre-processing"
      ]
    },
    {
      "cell_type": "code",
      "execution_count": 699,
      "metadata": {
        "id": "6HIuhDfwSq2q"
      },
      "outputs": [],
      "source": [
        "#remove html tags\n",
        "df['review'] = df['review'].apply(lambda s: re.sub('<.*?>','',s))\n",
        "\n",
        "#remove the numbers\n",
        "df['review'] = df['review'].str.replace('\\d+', '', regex=True)\n",
        "\n",
        "#stop-words from ntlk\n",
        "stopwords = stopwords.words('english')\n",
        "\n",
        "#words that appeared high as feature importance with out sentiment value so we remove them manually\n",
        "my_stopwords = ['mstk', 'turkey', 'seagal', 'filmmakers', ' church', 'chaplin', 'career', 'london', 'author', 'books', 'aka', 'cameron', 'roberts',\n",
        "                'blair', 'lee', 'kate', 'van', 'freddy', 'ron', 'dean', 'jones', 'ha', 'lloyd', 'ed', 'actor', 'lugosi', 'charles', 'ghosts', 'on dvd',\n",
        "                'on', 'dvd', 'of', 'what', 'it', 'an', 'tony', 'today', 'jack', 'the', 'woman', 'men', 'scene', 'system', 'society', 'our', 'ryan', 'episodes', 'they', 'to', 'me',\n",
        "                'kelly', 'in', 'vampires', 'themes', 'as', 'his', 'city', 'noir', 'american', 'era', 'paris', 'french', 'bill']\n",
        "my_stopwords = stopwords.extend(my_stopwords)"
      ]
    },
    {
      "cell_type": "markdown",
      "metadata": {
        "id": "0Oxhd8IIC9Wf"
      },
      "source": [
        "#### Separate features (inputs) from targets (outputs)"
      ]
    },
    {
      "cell_type": "code",
      "execution_count": 700,
      "metadata": {
        "id": "gyUAcnM__MRK"
      },
      "outputs": [],
      "source": [
        "X = df['review']\n",
        "Y = df['result']"
      ]
    },
    {
      "cell_type": "markdown",
      "metadata": {
        "id": "i9d43SZQDDfh"
      },
      "source": [
        "#### Split train and test sets"
      ]
    },
    {
      "cell_type": "code",
      "execution_count": 701,
      "metadata": {
        "id": "akBJAy-lAkCU"
      },
      "outputs": [],
      "source": [
        "X_train, X_test, Y_train, Y_test = train_test_split(X, Y, train_size=0.9, random_state=42)"
      ]
    },
    {
      "cell_type": "code",
      "source": [
        "#if case for running the test dataframe\n",
        "if not test_df.empty:\n",
        "\n",
        "  test_df['result'] = np.where(test_df['rating'] <= 4, 0, 1)\n",
        "  X_test = test_df['review']\n",
        "  Y_test = test_df['result']"
      ],
      "metadata": {
        "id": "JbF8g4-eb25E"
      },
      "execution_count": 702,
      "outputs": []
    },
    {
      "cell_type": "markdown",
      "metadata": {
        "id": "EVIE4HyEDKZA"
      },
      "source": [
        "#### Vectorization (Bag of Words)"
      ]
    },
    {
      "cell_type": "code",
      "execution_count": 703,
      "metadata": {
        "id": "3CisIT0fiTQn"
      },
      "outputs": [],
      "source": [
        "count = CountVectorizer(lowercase=True, stop_words=my_stopwords, ngram_range=(1, 2), max_features=3000)\n",
        "X_train_bag = count.fit_transform(X_train) # fit train\n",
        "X_test_bag = count.transform(X_test)       # transform test"
      ]
    },
    {
      "cell_type": "markdown",
      "metadata": {
        "id": "fMiIvmQKBSDm"
      },
      "source": [
        "## Train a model & Tweaking the hyperparameters"
      ]
    },
    {
      "cell_type": "markdown",
      "metadata": {
        "id": "ChHEs3aUzQbx"
      },
      "source": [
        "### Logistic Regression"
      ]
    },
    {
      "cell_type": "code",
      "execution_count": null,
      "metadata": {
        "id": "-65fnO6RBWU3"
      },
      "outputs": [],
      "source": [
        "#First we experiment with Logistic Regression model only with the train set\n",
        "clf = LogisticRegression(penalty='l2', tol=0.1, C=0.1, solver=\"liblinear\", max_iter=2000, random_state=42)\n",
        "clf.fit(X_train_bag, np.ravel(Y_train))\n",
        "\n",
        "########################################### Cross Validation ###########################################################\n",
        "\n",
        "# clf = LogisticRegression(penalty='l2', tol=0.1, C=0.1, solver=\"liblinear\", max_iter=2000, random_state=42)\n",
        "# Kfold_cross_validate = KFold(n_splits=5)\n",
        "# scoring = ['accuracy', 'precision', 'recall', 'f1']\n",
        "# score = cross_validate(clf, X_train_bag, np.ravel(Y_train), scoring=scoring, cv=Kfold_cross_validate)\n",
        "# print(\"Cross Validation Scores are {}\".format(score))\n",
        "\n",
        "########################################################################################################################\n",
        "\n",
        "########################################### Finding the hyperparameters ################################################\n",
        "\n",
        "# clf = LogisticRegression()\n",
        "# scoring = ['accuracy', 'precision', 'recall', 'f1']\n",
        "# grid_values = {'solver':['lbfgs', 'liblinear', 'newton-cg'], 'penalty':['l2'], 'C':[0.0001, 0.001, 0.01, 0.1, 1.0], 'tol':[0.00001, 0.0001, 0.001, 0.01, 0.1, 1.0], 'max_iter':[2000]}\n",
        "# grid_clf = GridSearchCV(clf, param_grid=grid_values, scoring='accuracy')\n",
        "# grid_clf.fit(X_train_bag, np.ravel(Y_train))\n",
        "# print(\"Best hyperparameters\",grid_clf.best_params_) #->Best hyperparameters {'C': 0.1, 'max_iter': 2000, 'penalty': 'l2', 'solver': 'liblinear', 'tol': 0.1}\n",
        "\n",
        "########################################################################################################################\n"
      ]
    },
    {
      "cell_type": "markdown",
      "metadata": {
        "id": "33fbT1geB4vG"
      },
      "source": [
        "## Evaluate model's performance"
      ]
    },
    {
      "cell_type": "markdown",
      "source": [
        "#### Feature Importance"
      ],
      "metadata": {
        "id": "MxWLSuDD0F1O"
      }
    },
    {
      "cell_type": "code",
      "source": [
        "####################### prints a list for the with important features #################################\n",
        "\n",
        "def show_most_informative_features(vectorizer, clf, n=10):\n",
        "  feature_names = vectorizer.get_feature_names_out()\n",
        "  coefs_with_fns = sorted(zip(clf.coef_[0], feature_names))\n",
        "  top = zip(coefs_with_fns[:n], coefs_with_fns[:-(n + 1):-1])\n",
        "  for (coef_1, fn_1), (coef_2, fn_2) in top:\n",
        "      print(\"\\t%.4f\\t%-15s\\t\\t%.4f\\t%-15s\" % (coef_1, fn_1, coef_2, fn_2))\n",
        "\n",
        "show_most_informative_features(count, clf, n=10)\n",
        "\n",
        "########################################################################################################"
      ],
      "metadata": {
        "id": "kzvlcXadYo_L"
      },
      "execution_count": null,
      "outputs": []
    },
    {
      "cell_type": "markdown",
      "source": [
        "#### Metrics"
      ],
      "metadata": {
        "id": "ki4c3P_I0RoH"
      }
    },
    {
      "cell_type": "code",
      "execution_count": null,
      "metadata": {
        "id": "5TE5UCDlB7hz"
      },
      "outputs": [],
      "source": [
        "#Predict\n",
        "predictions_train = clf.predict(X_train_bag)\n",
        "predictions_test = clf.predict(X_test_bag)\n",
        "\n",
        "# print(clf.n_features_in_)\n",
        "# print(predictions_test)\n",
        "# print(np.ravel(Y_test))\n",
        "\n",
        "# print(predictions_test.sum())\n",
        "# print(np.ravel(Y_test).sum())\n",
        "\n",
        "# F-Score\n",
        "f1_train = f1_score(Y_train, predictions_train)\n",
        "f1_test = f1_score(Y_test, predictions_test)\n",
        "print(\"F1 Score (train):\", f1_train)\n",
        "print(\"F1 Score (validation):\", f1_test)\n",
        "\n",
        "# Precision\n",
        "precision_train = precision_score(Y_train, predictions_train)\n",
        "precision_test = precision_score(Y_test, predictions_test)\n",
        "print(\"Precision score (train):\", precision_train)\n",
        "print(\"Precision score (validation):\", precision_test)\n",
        "\n",
        "# Recall\n",
        "recall_train = recall_score(Y_train, predictions_train);\n",
        "recall_test = recall_score(Y_test, predictions_test);\n",
        "print(\"Recall score (train)\", recall_train)\n",
        "print(\"Recall score (validation)\", recall_test)\n",
        "\n",
        "# Accuracy\n",
        "accuracy_train = accuracy_score(Y_train, predictions_train);\n",
        "accuracy_test = accuracy_score(Y_test, predictions_test);\n",
        "print(\"Accuracy score (train)\", accuracy_train)\n",
        "print(\"Accuracy score (validation)\", accuracy_test)"
      ]
    },
    {
      "cell_type": "markdown",
      "metadata": {
        "id": "K-6LUZbTJkP4"
      },
      "source": [
        "## Plots to visualize the metrics for our predictions"
      ]
    },
    {
      "cell_type": "markdown",
      "source": [
        "##### Learning Curves"
      ],
      "metadata": {
        "id": "jiu1gieU2OVl"
      }
    },
    {
      "cell_type": "code",
      "source": [
        "#learning curves\n",
        "list_f1=[]\n",
        "list_f1_train=[]\n",
        "list_sample_size=[]\n",
        "\n",
        "for times in range(10):\n",
        "  X, X_unused, y, y_unused = train_test_split(X_train_bag, Y_train, test_size=1-(times*0.1 + 0.001), random_state=42)\n",
        "\n",
        "  c = LogisticRegression(penalty='l2', tol=0.1, C=0.1, solver=\"liblinear\", max_iter=2000, random_state=42)\n",
        "  c.fit(X, np.ravel(y))\n",
        "\n",
        "  results_train = c.predict(X)\n",
        "  results= c.predict(X_test_bag)\n",
        "  f1_train = f1_score(y, results_train)\n",
        "  f1 = f1_score(Y_test, results)\n",
        "\n",
        "  list_f1.append(f1)\n",
        "  list_f1_train.append(f1_train)\n",
        "  list_sample_size.append((times*0.1+0.1))\n"
      ],
      "metadata": {
        "id": "52_OjRXRrzQe"
      },
      "execution_count": 707,
      "outputs": []
    },
    {
      "cell_type": "code",
      "source": [
        "plt.plot(list_sample_size, list_f1)\n",
        "plt.plot(list_sample_size, list_f1_train)\n",
        "\n",
        "plt.ylim(ymin=0)\n",
        "plt.legend([\"Validation\", \"Training\"])"
      ],
      "metadata": {
        "colab": {
          "base_uri": "https://localhost:8080/",
          "height": 282
        },
        "id": "JywtpynzxhGB",
        "outputId": "0c10a1bf-28df-4c9f-a31c-df8e5fb4a46a"
      },
      "execution_count": 708,
      "outputs": [
        {
          "output_type": "execute_result",
          "data": {
            "text/plain": [
              "<matplotlib.legend.Legend at 0x7f28f8203c90>"
            ]
          },
          "metadata": {},
          "execution_count": 708
        },
        {
          "output_type": "display_data",
          "data": {
            "text/plain": [
              "<Figure size 432x288 with 1 Axes>"
            ],
            "image/png": "[encoded data removed]"
          },
          "metadata": {
            "needs_background": "light"
          }
        }
      ]
    },
    {
      "cell_type": "markdown",
      "metadata": {
        "id": "MTSArFr5z6dR"
      },
      "source": [
        "##### Confusion Matrix Display\n",
        "$$\\begin{bmatrix} True Negatives & False Positives \\\\ False Negatives & True Positives \\end{bmatrix}$$"
      ]
    },
    {
      "cell_type": "code",
      "execution_count": 709,
      "metadata": {
        "colab": {
          "base_uri": "https://localhost:8080/",
          "height": 296
        },
        "id": "mraBMAivCR8d",
        "outputId": "7e485edf-ca11-4137-d273-bcf8c7f00762"
      },
      "outputs": [
        {
          "output_type": "execute_result",
          "data": {
            "text/plain": [
              "<sklearn.metrics._plot.confusion_matrix.ConfusionMatrixDisplay at 0x7f28f8203210>"
            ]
          },
          "metadata": {},
          "execution_count": 709
        },
        {
          "output_type": "display_data",
          "data": {
            "text/plain": [
              "<Figure size 432x288 with 2 Axes>"
            ],
            "image/png": "[encoded data removed]"
          },
          "metadata": {
            "needs_background": "light"
          }
        }
      ],
      "source": [
        "ConfusionMatrixDisplay.from_predictions(Y_test, predictions_test, normalize=\"all\")"
      ]
    }
  ],
  "metadata": {
    "colab": {
      "provenance": []
    },
    "kernelspec": {
      "display_name": "Python 3",
      "name": "python3"
    },
    "language_info": {
      "name": "python"
    }
  },
  "nbformat": 4,
  "nbformat_minor": 0
}