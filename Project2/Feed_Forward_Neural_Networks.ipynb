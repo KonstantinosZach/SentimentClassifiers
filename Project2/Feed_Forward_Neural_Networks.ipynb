{
  "nbformat": 4,
  "nbformat_minor": 0,
  "metadata": {
    "colab": {
      "provenance": [],
      "collapsed_sections": [
        "nj6_lyUun7k4",
        "py-j3cP6oDKI",
        "tTG7hESUiOut",
        "D43h2egN8qm9",
        "W9-LjCDAmZ2x"
      ]
    },
    "kernelspec": {
      "name": "python3",
      "display_name": "Python 3"
    },
    "language_info": {
      "name": "python"
    }
  },
  "cells": [
    {
      "cell_type": "markdown",
      "source": [
        "# Feed Forward Neural Network HW2"
      ],
      "metadata": {
        "id": "lmMYUzfTNcKG"
      }
    },
    {
      "cell_type": "markdown",
      "source": [
        "## Download GloVe Embeddings"
      ],
      "metadata": {
        "id": "nj6_lyUun7k4"
      }
    },
    {
      "cell_type": "code",
      "source": [
        "!wget http://nlp.stanford.edu/data/glove.6B.zip"
      ],
      "metadata": {
        "id": "hHATZ4a6ONE0"
      },
      "execution_count": null,
      "outputs": []
    },
    {
      "cell_type": "code",
      "source": [
        "!unzip glove*.zip"
      ],
      "metadata": {
        "id": "ScTsMlAEOSwl"
      },
      "execution_count": null,
      "outputs": []
    },
    {
      "cell_type": "markdown",
      "source": [
        "## Transform GloVe embeddings to Word2Vec format"
      ],
      "metadata": {
        "id": "py-j3cP6oDKI"
      }
    },
    {
      "cell_type": "code",
      "source": [
        "from gensim.scripts.glove2word2vec import glove2word2vec\n",
        "import pandas as pd\n",
        "\n",
        "glove_input_file = 'glove.6B.300d.txt'\n",
        "w2v_output_file = 'glv_with_w2v_format.txt'\n",
        "\n",
        "glove2word2vec(glove_input_file, w2v_output_file)"
      ],
      "metadata": {
        "id": "tbrKc9rlNo_D",
        "colab": {
          "base_uri": "https://localhost:8080/"
        },
        "outputId": "81def423-fcbc-4c84-fef1-a4397300659b"
      },
      "execution_count": 3,
      "outputs": [
        {
          "output_type": "execute_result",
          "data": {
            "text/plain": [
              "(400000, 300)"
            ]
          },
          "metadata": {},
          "execution_count": 3
        }
      ]
    },
    {
      "cell_type": "markdown",
      "source": [
        "## Imports"
      ],
      "metadata": {
        "id": "tTG7hESUiOut"
      }
    },
    {
      "cell_type": "code",
      "metadata": {
        "id": "E4yVVSMZ7YGi"
      },
      "source": [
        "import torch\n",
        "import torch.nn as nn\n",
        "import torchvision.transforms as transforms\n",
        "import torchvision.datasets as dsets\n",
        "\n",
        "import matplotlib.pyplot as plt\n",
        "import pandas as pd\n",
        "import numpy as np\n",
        "import re\n",
        "\n",
        "from sklearn.model_selection import train_test_split\n",
        "from sklearn.metrics import RocCurveDisplay\n",
        "from sklearn.feature_extraction.text import TfidfVectorizer\n",
        "\n",
        "from gensim.models import KeyedVectors\n",
        "\n",
        "import nltk\n",
        "from nltk.tokenize import word_tokenize\n",
        "from nltk.corpus import stopwords\n",
        "from nltk.stem import WordNetLemmatizer\n",
        "\n",
        "nltk.download('popular')\n",
        "stopwords = stopwords.words('english')\n",
        "lemmatizer = WordNetLemmatizer()\n",
        "\n",
        "!pip install torchmetrics\n",
        "import torchmetrics"
      ],
      "execution_count": null,
      "outputs": []
    },
    {
      "cell_type": "markdown",
      "metadata": {
        "id": "D43h2egN8qm9"
      },
      "source": [
        "## Load Data Set"
      ]
    },
    {
      "cell_type": "code",
      "metadata": {
        "id": "8pm7sprm8Tvb"
      },
      "source": [
        "#Reading the csv file\n",
        "#csv outline [index|url|rating|review]\n",
        "df = pd.read_csv(\"/content/imdb-reviews.csv\", sep='\\t')\n",
        "\n",
        "#we make a column with {0, 1} based on rating\n",
        "df[\"result\"] = np.where(df[\"rating\"] <= 4, 0, 1)\n",
        "\n",
        "##### !! put the path for the test dataset here  !! #######\n",
        "test_df = pd.DataFrame()"
      ],
      "execution_count": 68,
      "outputs": []
    },
    {
      "cell_type": "markdown",
      "source": [
        "## Data Pre-processing\n",
        "\n"
      ],
      "metadata": {
        "id": "W9-LjCDAmZ2x"
      }
    },
    {
      "cell_type": "code",
      "source": [
        "def data_preprocessing(df):\n",
        "  # remove html tags\n",
        "  df['review'] = df['review'].apply(lambda s: re.sub('<.*?>', '', s))\n",
        "\n",
        "  # remove special chars and numbers\n",
        "  df['review'] = df['review'].str.replace(\"[^A-Za-z]+\", ' ', regex=True)\n",
        "\n",
        "  # tokenize\n",
        "  df['review'] = df['review'].apply(word_tokenize)\n",
        "\n",
        "  # remove stopwords\n",
        "  df['review'] = df['review'].apply(lambda s: ([word.lower() for word in s if word not in (stopwords)]))\n",
        "\n",
        "  # lemmatize\n",
        "  df['review'] = df['review'].apply(lambda s: ([lemmatizer.lemmatize(word) for word in s]))\n",
        "\n",
        "  # we don't use stemming cause it ruins some words and then we can't find them in glove\n",
        "\n",
        "  return df\n",
        "\n",
        "df = data_preprocessing(df)\n",
        "\n",
        "#we also processing the test data if exists\n",
        "if not test_df.empty:\n",
        "  test_df = data_preprocessing(test_df)"
      ],
      "metadata": {
        "id": "vdFr13c_mYdv"
      },
      "execution_count": 69,
      "outputs": []
    },
    {
      "cell_type": "markdown",
      "source": [
        "## Create the Set of Tensors for the Reviews"
      ],
      "metadata": {
        "id": "C-9z4AODzWTO"
      }
    },
    {
      "cell_type": "code",
      "source": [
        "word2vec = KeyedVectors.load_word2vec_format(w2v_output_file, datatype=float, binary=False)"
      ],
      "metadata": {
        "id": "rEYMnIqi4LtR"
      },
      "execution_count": 70,
      "outputs": []
    },
    {
      "cell_type": "code",
      "metadata": {
        "id": "2EIP1OaJOFak"
      },
      "source": [
        "model_dict = {}\n",
        "tensors_x = []\n",
        "tensors_y = []\n",
        "\n",
        "#we make the word2vec a dict to have fast searches\n",
        "for word in word2vec.index2entity:\n",
        "  model_dict[word] = word2vec.get_vector(word)\n",
        "\n",
        "def reviews_to_tensors(df):\n",
        "\n",
        "  #iterate through all of the reviews and results\n",
        "  for (review, result) in zip(df['review'], df['result']):\n",
        "\n",
        "    ##########################  tfidf ##########################\n",
        "\n",
        "    # tfidf = TfidfVectorizer()\n",
        "    # response = tfidf.fit_transform(review)\n",
        "\n",
        "    # feature_array = np.array(tfidf.get_feature_names())\n",
        "    # tfidf_sorting = np.argsort(response.toarray()).flatten()[::-1]\n",
        "\n",
        "    # importand_words = feature_array[tfidf_sorting][:25]\n",
        "    \n",
        "    ############ replace review in for with importand_words ############\n",
        "\n",
        "    #for each review keep in a dict only the distinct words\n",
        "    review_dict = {}\n",
        "    for word in review:\n",
        "      if review_dict.get(word) == None:\n",
        "        review_dict[word] = len(review_dict)\n",
        "    \n",
        "    #for each distict word get the vector\n",
        "    tensor_x = np.zeros(300)\n",
        "    tensor_y = [float(result)]\n",
        "    count = 0\n",
        "\n",
        "    for word in review_dict:\n",
        "        #if vector exist add it in review_vectors\n",
        "        if word in model_dict:\n",
        "          #add up all vectors\n",
        "          tensor_x += model_dict[word]\n",
        "          count += 1\n",
        "    \n",
        "    #devide final vector by the sum of words\n",
        "    tensor_x /= count\n",
        "\n",
        "    #add tensor to the list\n",
        "    tensors_x.append(torch.tensor(tensor_x, dtype=torch.float))\n",
        "    tensors_y.append(torch.tensor(tensor_y, dtype=torch.float))\n",
        "\n",
        "  #stack all the tensors\n",
        "  x = torch.stack(tensors_x)\n",
        "  y = torch.stack(tensors_y)\n",
        "\n",
        "  return x, y\n",
        "\n",
        "x, y = reviews_to_tensors(df)"
      ],
      "execution_count": 71,
      "outputs": []
    },
    {
      "cell_type": "markdown",
      "source": [
        "## Split Train and Test Sets"
      ],
      "metadata": {
        "id": "ni3CKhOsa1JX"
      }
    },
    {
      "cell_type": "code",
      "source": [
        "#split the tensors to train and test sets\n",
        "X_train, X_test, Y_train, Y_test = train_test_split(x, y, train_size=0.9, random_state=42)"
      ],
      "metadata": {
        "id": "2QHsMgfga8bF"
      },
      "execution_count": 72,
      "outputs": []
    },
    {
      "cell_type": "code",
      "source": [
        "#if case for running the test dataframe\n",
        "if not test_df.empty:\n",
        "  test_df['result'] = np.where(test_df['rating'] <= 4, 0, 1)\n",
        "  X_test, Y_test = reviews_to_tensors(test_df)"
      ],
      "metadata": {
        "id": "oEbIFL9k0yTJ"
      },
      "execution_count": 74,
      "outputs": []
    },
    {
      "cell_type": "markdown",
      "metadata": {
        "id": "i10vl9KnOwfE"
      },
      "source": [
        "## Define the Neural Network Class"
      ]
    },
    {
      "cell_type": "code",
      "metadata": {
        "id": "wTlyzUiG8p5V"
      },
      "source": [
        "class Net(nn.Module):\n",
        "    def __init__(self, D_in, H1, H2, H3, D_out):\n",
        "\n",
        "        super(Net, self).__init__()\n",
        "        self.linear1 = nn.Linear(D_in, H1) \n",
        "        #self.dropout1 = nn.Dropout(0.3)\n",
        "        self.relu1 = nn.ReLU()\n",
        "        self.linear2 = nn.Linear(H1, H2)\n",
        "        #self.dropout2 = nn.Dropout(0.3)\n",
        "        self.relu2 = nn.ReLU()\n",
        "        self.linear3 = nn.Linear(H2, H3)\n",
        "        #self.dropout3 = nn.Dropout(0.5)\n",
        "        self.relu3 = nn.ReLU()\n",
        "        self.linear4 = nn.Linear(H3, D_out)\n",
        "\n",
        "    def forward(self, x):\n",
        "        out = self.linear1(x)\n",
        "        out = self.relu1(out)\n",
        "        out = self.linear2(out)\n",
        "        out = self.relu2(out)\n",
        "        out = self.linear3(out)\n",
        "        out = self.relu3(out)\n",
        "        out = self.linear4(out)\n",
        "        return torch.sigmoid(out)"
      ],
      "execution_count": 75,
      "outputs": []
    },
    {
      "cell_type": "markdown",
      "source": [
        "## Tune the hyperparameters"
      ],
      "metadata": {
        "id": "xY6IyAr3lh2f"
      }
    },
    {
      "cell_type": "code",
      "metadata": {
        "id": "BXAcc2dLPPUe"
      },
      "source": [
        "#Define layer sizes\n",
        "D_in = X_train.shape[1]\n",
        "H1 = 128\n",
        "H2 = 64\n",
        "H3 = 32\n",
        "D_out = 1 #always 1\n",
        "\n",
        "#Different layers sizes\n",
        "#128 64 32 | 128 64 16 | 128 32 16 | 64 32 8 |  256 128 64 | 256 64 16\n",
        "######################################################################\n",
        "\n",
        "#Define Hyperparameters\n",
        "learning_rate = 1e-4\n",
        "\n",
        "#learning_rate = 1e-5 #low precision\n",
        "#learning_rate = 1e-3 #overfit\n",
        "\n",
        "#Initialise model\n",
        "model = Net(D_in, H1, H2, H3, D_out)\n",
        "\n",
        "#Loss function\n",
        "loss_func = nn.MSELoss(reduction='sum')\n",
        "\n",
        "#loss_func = nn.BCELoss(reduction='sum')\n",
        "#loss_func = nn.HuberLoss(reduction='sum')\n",
        "\n",
        "#optimizer\n",
        "optimizer = torch.optim.Adamax(model.parameters(), lr=learning_rate)\n",
        "\n",
        "#optimizer = torch.optim.SGD(model.parameters(), lr=learning_rate)\n",
        "#optimizer = torch.optim.SGD(model.parameters(), momentum=0.9, nesterov=True, lr=learning_rate)\n",
        "#optimizer = torch.optim.Adagrad(model.parameters(), lr=learning_rate)\n",
        "#optimizer = torch.optim.Adam(model.parameters(), lr=learning_rate)\n",
        "#optimizer = torch.optim.NAdam(model.parameters(), lr=learning_rate)"
      ],
      "execution_count": 76,
      "outputs": []
    },
    {
      "cell_type": "markdown",
      "source": [
        "## Initialize the train and test dataloader"
      ],
      "metadata": {
        "id": "kMH2Nh_Ulmtq"
      }
    },
    {
      "cell_type": "code",
      "source": [
        "nepoch = 25\n",
        "\n",
        "batch_size = 64\n",
        "#batch_size = 128\n",
        "#batch_size = 32\n",
        "\n",
        "#Initialise dataloader\n",
        "dataset_train = torch.utils.data.TensorDataset(X_train, Y_train)\n",
        "dataloader_train = torch.utils.data.DataLoader(dataset_train, batch_size=batch_size)\n",
        "\n",
        "dataset_test = torch.utils.data.TensorDataset(X_test, Y_test)\n",
        "dataloader_test = torch.utils.data.DataLoader(dataset_test, batch_size=batch_size)"
      ],
      "metadata": {
        "id": "wgu0F9A6lpx1"
      },
      "execution_count": 77,
      "outputs": []
    },
    {
      "cell_type": "markdown",
      "source": [
        "## Evaluation Functions"
      ],
      "metadata": {
        "id": "7_gkzrJAqxdT"
      }
    },
    {
      "cell_type": "code",
      "source": [
        "accuracy = torchmetrics.Accuracy(task='binary', num_classes=1)\n",
        "precission = torchmetrics.Precision(task='binary', num_classes=1)\n",
        "recall = torchmetrics.Recall(task='binary', num_classes=1)\n",
        "f1 = torchmetrics.F1Score(task='binary', num_classes=1)"
      ],
      "metadata": {
        "id": "WvHODI5eqlpB"
      },
      "execution_count": 78,
      "outputs": []
    },
    {
      "cell_type": "markdown",
      "metadata": {
        "id": "tWzZl_LRTd6J"
      },
      "source": [
        "## Train and Test Network"
      ]
    },
    {
      "cell_type": "code",
      "metadata": {
        "id": "fck--1cFP1Rd",
        "colab": {
          "base_uri": "https://localhost:8080/"
        },
        "outputId": "d0178425-6486-4367-a5f6-4459e8e177e3"
      },
      "source": [
        "torch.set_grad_enabled(True)\n",
        "\n",
        "list_loss_train = []\n",
        "list_loss_test = []\n",
        "\n",
        "list_accuracy_train = []\n",
        "list_accuracy_test = []\n",
        "\n",
        "for epoch in range(nepoch):\n",
        "  batch_losses_train = 0\n",
        "  batch_accuracy_train = 0\n",
        "  batch_precission_train = 0\n",
        "  batch_recall_train = 0\n",
        "  batch_f1_train = 0\n",
        "\n",
        "  batch_losses_test = 0\n",
        "  batch_accuracy_test = 0\n",
        "  batch_precission_test = 0\n",
        "  batch_recall_test = 0\n",
        "  batch_f1_test = 0\n",
        "\n",
        "  #for every epoch we train the model\n",
        "  for x_batch, y_batch in dataloader_train:\n",
        "    y_pred = model(x_batch)\n",
        "\n",
        "    #we find loss\n",
        "    loss = loss_func(y_pred, y_batch)\n",
        "\n",
        "    #Delete previously stored gradients\n",
        "    optimizer.zero_grad()\n",
        "\n",
        "    #Perform backpropagation starting from the loss calculated in this epoch\n",
        "    loss.backward()\n",
        "\n",
        "    #Update model's weights based on the gradients calculated during backprop\n",
        "    optimizer.step()\n",
        "\n",
        "    batch_losses_train += loss.item()\n",
        "    batch_accuracy_train += accuracy(torch.round(y_pred), y_batch)\n",
        "    batch_precission_train += precission(torch.round(y_pred), y_batch)\n",
        "    batch_recall_train += recall(torch.round(y_pred), y_batch)\n",
        "    batch_f1_train += f1(torch.round(y_pred), y_batch)\n",
        "\n",
        "  #keep values for the curves\n",
        "  list_loss_train.append(batch_losses_train/len(dataloader_train))\n",
        "  list_accuracy_train.append(batch_accuracy_train/len(dataloader_train))\n",
        "\n",
        "  print(f\"Epoch {epoch}\")\n",
        "  print(f\"  Train {epoch:3}: Loss = {batch_losses_train/len(dataloader_train):.5f} Accuracy = {batch_accuracy_train/len(dataloader_train):.5f} Precission = {batch_precission_train/len(dataloader_train):.5f} Recall = {batch_recall_train/len(dataloader_train):.5f} F1 = {batch_f1_train/len(dataloader_train):.5f}\")\n",
        "\n",
        "  #for every epoch we test the model\n",
        "  list_y_pred = []\n",
        "  for x_batch, y_batch in dataloader_test:\n",
        "      y_pred = model(x_batch)\n",
        "\n",
        "      batch_losses_test += loss_func(y_pred, y_batch).item()\n",
        "      batch_accuracy_test += accuracy(torch.round(y_pred), y_batch)\n",
        "      batch_precission_test += precission(torch.round(y_pred), y_batch)\n",
        "      batch_recall_test += recall(torch.round(y_pred), y_batch)\n",
        "      batch_f1_test += f1(torch.round(y_pred), y_batch)\n",
        "    \n",
        "  #keep values for the curves\n",
        "  list_loss_test.append(batch_losses_test/len(dataloader_test))\n",
        "  list_accuracy_test.append(batch_accuracy_test/len(dataloader_test))\n",
        "\n",
        "  print(f\"  Test {epoch:4}: Loss = {batch_losses_test/len(dataloader_test):.5f} Accuracy = {batch_accuracy_test/len(dataloader_test):.5f} Precission = {batch_precission_test/len(dataloader_test):.5f} Recall = {batch_recall_test/len(dataloader_test):.5f} F1 = {batch_f1_test/len(dataloader_test):.5f}\")\n",
        "\n"
      ],
      "execution_count": 79,
      "outputs": [
        {
          "output_type": "stream",
          "name": "stdout",
          "text": [
            "Epoch 0\n",
            "  Train   0: Loss = 15.61194 Accuracy = 0.55923 Precission = 0.33978 Recall = 0.13574 F1 = 0.18285\n",
            "  Test    0: Loss = 14.54378 Accuracy = 0.74116 Precission = 0.84037 Recall = 0.59610 F1 = 0.69411\n",
            "Epoch 1\n",
            "  Train   1: Loss = 12.60355 Accuracy = 0.77343 Precission = 0.80975 Recall = 0.71995 F1 = 0.75560\n",
            "  Test    1: Loss = 10.63871 Accuracy = 0.78472 Precission = 0.77209 Recall = 0.80417 F1 = 0.78583\n",
            "Epoch 2\n",
            "  Train   2: Loss = 9.63734 Accuracy = 0.80088 Precission = 0.80240 Recall = 0.79974 F1 = 0.79825\n",
            "  Test    2: Loss = 9.12291 Accuracy = 0.80211 Precission = 0.78579 Recall = 0.82824 F1 = 0.80441\n",
            "Epoch 3\n",
            "  Train   3: Loss = 8.60162 Accuracy = 0.81508 Precission = 0.81547 Recall = 0.81517 F1 = 0.81275\n",
            "  Test    3: Loss = 8.50652 Accuracy = 0.81356 Precission = 0.79519 Recall = 0.84263 F1 = 0.81629\n",
            "Epoch 4\n",
            "  Train   4: Loss = 8.12659 Accuracy = 0.82250 Precission = 0.82334 Recall = 0.82170 F1 = 0.81998\n",
            "  Test    4: Loss = 8.17094 Accuracy = 0.81994 Precission = 0.79992 Recall = 0.85225 F1 = 0.82346\n",
            "Epoch 5\n",
            "  Train   5: Loss = 7.86277 Accuracy = 0.82840 Precission = 0.82879 Recall = 0.82813 F1 = 0.82609\n",
            "  Test    5: Loss = 7.96943 Accuracy = 0.82479 Precission = 0.80663 Recall = 0.85392 F1 = 0.82779\n",
            "Epoch 6\n",
            "  Train   6: Loss = 7.70120 Accuracy = 0.83161 Precission = 0.83204 Recall = 0.83129 F1 = 0.82930\n",
            "  Test    6: Loss = 7.84081 Accuracy = 0.82898 Precission = 0.80968 Recall = 0.85984 F1 = 0.83221\n",
            "Epoch 7\n",
            "  Train   7: Loss = 7.59437 Accuracy = 0.83442 Precission = 0.83405 Recall = 0.83513 F1 = 0.83222\n",
            "  Test    7: Loss = 7.75374 Accuracy = 0.83295 Precission = 0.81287 Recall = 0.86509 F1 = 0.83643\n",
            "Epoch 8\n",
            "  Train   8: Loss = 7.51891 Accuracy = 0.83546 Precission = 0.83519 Recall = 0.83606 F1 = 0.83331\n",
            "  Test    8: Loss = 7.69280 Accuracy = 0.83427 Precission = 0.81264 Recall = 0.86867 F1 = 0.83795\n",
            "Epoch 9\n",
            "  Train   9: Loss = 7.46247 Accuracy = 0.83669 Precission = 0.83606 Recall = 0.83774 F1 = 0.83460\n",
            "  Test    9: Loss = 7.64808 Accuracy = 0.83559 Precission = 0.81392 Recall = 0.86988 F1 = 0.83924\n",
            "Epoch 10\n",
            "  Train  10: Loss = 7.41841 Accuracy = 0.83751 Precission = 0.83686 Recall = 0.83855 F1 = 0.83541\n",
            "  Test   10: Loss = 7.61481 Accuracy = 0.83713 Precission = 0.81549 Recall = 0.87140 F1 = 0.84080\n",
            "Epoch 11\n",
            "  Train  11: Loss = 7.38292 Accuracy = 0.83813 Precission = 0.83768 Recall = 0.83882 F1 = 0.83594\n",
            "  Test   11: Loss = 7.58977 Accuracy = 0.83757 Precission = 0.81532 Recall = 0.87213 F1 = 0.84118\n",
            "Epoch 12\n",
            "  Train  12: Loss = 7.35366 Accuracy = 0.83869 Precission = 0.83842 Recall = 0.83933 F1 = 0.83652\n",
            "  Test   12: Loss = 7.57029 Accuracy = 0.83801 Precission = 0.81551 Recall = 0.87295 F1 = 0.84166\n",
            "Epoch 13\n",
            "  Train  13: Loss = 7.32895 Accuracy = 0.83929 Precission = 0.83896 Recall = 0.84001 F1 = 0.83712\n",
            "  Test   13: Loss = 7.55485 Accuracy = 0.83845 Precission = 0.81564 Recall = 0.87379 F1 = 0.84213\n",
            "Epoch 14\n",
            "  Train  14: Loss = 7.30754 Accuracy = 0.84032 Precission = 0.84014 Recall = 0.84105 F1 = 0.83826\n",
            "  Test   14: Loss = 7.54186 Accuracy = 0.83867 Precission = 0.81550 Recall = 0.87419 F1 = 0.84231\n",
            "Epoch 15\n",
            "  Train  15: Loss = 7.28878 Accuracy = 0.84079 Precission = 0.84061 Recall = 0.84152 F1 = 0.83875\n",
            "  Test   15: Loss = 7.53096 Accuracy = 0.83955 Precission = 0.81537 Recall = 0.87617 F1 = 0.84323\n",
            "Epoch 16\n",
            "  Train  16: Loss = 7.27201 Accuracy = 0.84146 Precission = 0.84105 Recall = 0.84265 F1 = 0.83951\n",
            "  Test   16: Loss = 7.52098 Accuracy = 0.83999 Precission = 0.81628 Recall = 0.87569 F1 = 0.84343\n",
            "Epoch 17\n",
            "  Train  17: Loss = 7.25676 Accuracy = 0.84158 Precission = 0.84131 Recall = 0.84267 F1 = 0.83967\n",
            "  Test   17: Loss = 7.51220 Accuracy = 0.83999 Precission = 0.81596 Recall = 0.87602 F1 = 0.84342\n",
            "Epoch 18\n",
            "  Train  18: Loss = 7.24277 Accuracy = 0.84193 Precission = 0.84160 Recall = 0.84313 F1 = 0.84003\n",
            "  Test   18: Loss = 7.50425 Accuracy = 0.84043 Precission = 0.81637 Recall = 0.87658 F1 = 0.84393\n",
            "Epoch 19\n",
            "  Train  19: Loss = 7.22949 Accuracy = 0.84227 Precission = 0.84180 Recall = 0.84381 F1 = 0.84048\n",
            "  Test   19: Loss = 7.49737 Accuracy = 0.84087 Precission = 0.81716 Recall = 0.87622 F1 = 0.84421\n",
            "Epoch 20\n",
            "  Train  20: Loss = 7.21715 Accuracy = 0.84215 Precission = 0.84161 Recall = 0.84385 F1 = 0.84038\n",
            "  Test   20: Loss = 7.49080 Accuracy = 0.84153 Precission = 0.81744 Recall = 0.87747 F1 = 0.84497\n",
            "Epoch 21\n",
            "  Train  21: Loss = 7.20555 Accuracy = 0.84252 Precission = 0.84180 Recall = 0.84445 F1 = 0.84078\n",
            "  Test   21: Loss = 7.48479 Accuracy = 0.84153 Precission = 0.81730 Recall = 0.87747 F1 = 0.84492\n",
            "Epoch 22\n",
            "  Train  22: Loss = 7.19445 Accuracy = 0.84282 Precission = 0.84194 Recall = 0.84506 F1 = 0.84115\n",
            "  Test   22: Loss = 7.47827 Accuracy = 0.84175 Precission = 0.81785 Recall = 0.87703 F1 = 0.84499\n",
            "Epoch 23\n",
            "  Train  23: Loss = 7.18379 Accuracy = 0.84292 Precission = 0.84203 Recall = 0.84522 F1 = 0.84126\n",
            "  Test   23: Loss = 7.47184 Accuracy = 0.84153 Precission = 0.81771 Recall = 0.87652 F1 = 0.84471\n",
            "Epoch 24\n",
            "  Train  24: Loss = 7.17355 Accuracy = 0.84324 Precission = 0.84225 Recall = 0.84561 F1 = 0.84157\n",
            "  Test   24: Loss = 7.46526 Accuracy = 0.84197 Precission = 0.81771 Recall = 0.87777 F1 = 0.84528\n"
          ]
        }
      ]
    },
    {
      "cell_type": "markdown",
      "source": [
        "## Plots"
      ],
      "metadata": {
        "id": "QSBw9hqEuLj2"
      }
    },
    {
      "cell_type": "markdown",
      "source": [
        "### Optimization Learning Curve"
      ],
      "metadata": {
        "id": "rJDhunEK9uHf"
      }
    },
    {
      "cell_type": "code",
      "source": [
        "plt.xlabel('epoch')\n",
        "plt.ylabel('loss')\n",
        "\n",
        "plt.plot(list_loss_train, label = 'train')\n",
        "plt.plot(list_loss_test, label = 'test')\n",
        "plt.title('Optimization Learning Curve')\n",
        "plt.legend()"
      ],
      "metadata": {
        "colab": {
          "base_uri": "https://localhost:8080/",
          "height": 312
        },
        "id": "Gl6RnqSFuPbp",
        "outputId": "1019dc07-91ed-43ee-e8e5-4efbfac49cdb"
      },
      "execution_count": 80,
      "outputs": [
        {
          "output_type": "execute_result",
          "data": {
            "text/plain": [
              "<matplotlib.legend.Legend at 0x7fe2a397d370>"
            ]
          },
          "metadata": {},
          "execution_count": 80
        },
        {
          "output_type": "display_data",
          "data": {
            "text/plain": [
              "<Figure size 432x288 with 1 Axes>"
            ],
            "image/png": "[encoded data removed]"
          },
          "metadata": {
            "needs_background": "light"
          }
        }
      ]
    },
    {
      "cell_type": "markdown",
      "source": [
        "### Performance Learning Curve"
      ],
      "metadata": {
        "id": "nICDqiAd9zpx"
      }
    },
    {
      "cell_type": "code",
      "source": [
        "plt.xlabel('epoch')\n",
        "plt.ylabel('accuracy')\n",
        "\n",
        "plt.plot(list_accuracy_train, label = 'train')\n",
        "plt.plot(list_accuracy_test, label = 'test')\n",
        "\n",
        "plt.title('Permormance Learning Curve')\n",
        "plt.legend()"
      ],
      "metadata": {
        "colab": {
          "base_uri": "https://localhost:8080/",
          "height": 312
        },
        "id": "BYI9OOdq94Pp",
        "outputId": "5dd3f380-d053-4352-b380-fd12ff39859b"
      },
      "execution_count": 81,
      "outputs": [
        {
          "output_type": "execute_result",
          "data": {
            "text/plain": [
              "<matplotlib.legend.Legend at 0x7fe2bcf3fc40>"
            ]
          },
          "metadata": {},
          "execution_count": 81
        },
        {
          "output_type": "display_data",
          "data": {
            "text/plain": [
              "<Figure size 432x288 with 1 Axes>"
            ],
            "image/png": "[encoded data removed]"
          },
          "metadata": {
            "needs_background": "light"
          }
        }
      ]
    },
    {
      "cell_type": "markdown",
      "source": [
        "### ROC curve"
      ],
      "metadata": {
        "id": "yhC-WL8-l_5V"
      }
    },
    {
      "cell_type": "code",
      "source": [
        "y_pred = model(X_test)\n",
        "RocCurveDisplay.from_predictions(Y_test, y_pred.detach().numpy())"
      ],
      "metadata": {
        "colab": {
          "base_uri": "https://localhost:8080/",
          "height": 296
        },
        "id": "5DXGW1f2FDlQ",
        "outputId": "3cb77fbb-b5bd-431b-c0aa-e5a798a40658"
      },
      "execution_count": 82,
      "outputs": [
        {
          "output_type": "execute_result",
          "data": {
            "text/plain": [
              "<sklearn.metrics._plot.roc_curve.RocCurveDisplay at 0x7fe35cb42310>"
            ]
          },
          "metadata": {},
          "execution_count": 82
        },
        {
          "output_type": "display_data",
          "data": {
            "text/plain": [
              "<Figure size 432x288 with 1 Axes>"
            ],
            "image/png": "[encoded data removed]"
          },
          "metadata": {
            "needs_background": "light"
          }
        }
      ]
    }
  ]
}